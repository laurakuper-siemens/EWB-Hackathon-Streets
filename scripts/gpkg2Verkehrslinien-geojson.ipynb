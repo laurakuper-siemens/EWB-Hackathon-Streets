{
 "cells": [
  {
   "cell_type": "code",
   "execution_count": 1,
   "metadata": {
    "collapsed": true
   },
   "outputs": [],
   "source": [
    "import geopandas as gpd\n",
    "from shapely.geometry import box\n"
   ]
  },
  {
   "cell_type": "code",
   "execution_count": 2,
   "outputs": [
    {
     "name": "stdout",
     "output_type": "stream",
     "text": [
      "                       id land      objektart                      klasse  \\\n",
      "115      DEBYBDLMZS0001ZI   BY  Strassenachse              Gemeindestraße   \n",
      "248      DEBYBDLMZS00043y   BY  Strassenachse              Gemeindestraße   \n",
      "3583     DEBYBDLMZR0005OR   BY  Strassenachse  Landesstraße, Staatsstraße   \n",
      "5096     DEBYBDLMZS0001Ut   BY  Strassenachse              Gemeindestraße   \n",
      "5654     DEBYBDLMZS0001Vf   BY  Strassenachse              Gemeindestraße   \n",
      "...                   ...  ...            ...                         ...   \n",
      "2980534  DEBYBDLMZR0003gX   BY   WegPfadSteig             Rad- und Fußweg   \n",
      "3025056  DEBYBDLMZR00074i   BY  Strassenachse              Gemeindestraße   \n",
      "3077876  DEBYBDLMZR0001o8   BY  Strassenachse              Gemeindestraße   \n",
      "3142154  DEBYBDLMZR0002HW   BY  Strassenachse              Gemeindestraße   \n",
      "3194379  DEBYBDLMZS0001cR   BY  Strassenachse              Gemeindestraße   \n",
      "\n",
      "         klasse_org                   name           name_kurz zweitname  \\\n",
      "115          1307.0             Isarstraße            Isarstr.      None   \n",
      "248          1307.0         Am Coulombwall      A. Coulombwall      None   \n",
      "3583         1305.0  Freisinger Landstraße  Freising. Landstr.      None   \n",
      "5096         1307.0             Isarstraße            Isarstr.      None   \n",
      "5654         1307.0             Flurstraße            Flurstr.      None   \n",
      "...             ...                    ...                 ...       ...   \n",
      "2980534      1110.0      Fröttmaninger Weg     Fröttmaning. W.      None   \n",
      "3025056      1307.0   Schleißheimer Straße      Schleißh. Str.      None   \n",
      "3077876      1307.0   Schleißheimer Straße      Schleißh. Str.      None   \n",
      "3142154      1307.0           Türkenstraße          Türkenstr.      None   \n",
      "3194379      1307.0           Birkenstraße          Birkenstr.      None   \n",
      "\n",
      "         nummer e_nummer1  ... spurweite  spurweite_name typ  typ_name  \\\n",
      "115        None      None  ...       NaN            None NaN      None   \n",
      "248        None      None  ...       NaN            None NaN      None   \n",
      "3583     St2350      None  ...       NaN            None NaN      None   \n",
      "5096       None      None  ...       NaN            None NaN      None   \n",
      "5654       None      None  ...       NaN            None NaN      None   \n",
      "...         ...       ...  ...       ...             ...  ..       ...   \n",
      "2980534    None      None  ...       NaN            None NaN      None   \n",
      "3025056    None      None  ...       NaN            None NaN      None   \n",
      "3077876    None      None  ...       NaN            None NaN      None   \n",
      "3142154    None      None  ...       NaN            None NaN      None   \n",
      "3194379    None      None  ...       NaN            None NaN      None   \n",
      "\n",
      "                   kennung  bauwerk bauwerk_name  fahrbahnachse ebene  \\\n",
      "115      09184119000100000     None         None            NaN     0   \n",
      "248      09184119000100000     None         None            NaN     0   \n",
      "3583     09184119000100000     None         None            NaN     0   \n",
      "5096     09184119000100000     None         None            NaN     0   \n",
      "5654     09184119000100000     None         None            NaN     0   \n",
      "...                    ...      ...          ...            ...   ...   \n",
      "2980534  09184119000100000     None         None            NaN     0   \n",
      "3025056  09184119000300000     None         None            NaN     0   \n",
      "3077876  09184119000300000     None         None            NaN     0   \n",
      "3142154  09184119000100000     None         None            NaN     0   \n",
      "3194379  09184119000100000     None         None            NaN     0   \n",
      "\n",
      "                                                  geometry  \n",
      "115      LINESTRING (11.67277 48.26347, 11.67247 48.26353)  \n",
      "248      LINESTRING (11.67583 48.26894, 11.67541 48.26900)  \n",
      "3583     LINESTRING (11.66259 48.26792, 11.66331 48.268...  \n",
      "5096     LINESTRING (11.67331 48.26338, 11.67301 48.26344)  \n",
      "5654     LINESTRING (11.67404 48.26067, 11.67411 48.260...  \n",
      "...                                                    ...  \n",
      "2980534  LINESTRING (11.65570 48.24167, 11.65565 48.241...  \n",
      "3025056  LINESTRING (11.62893 48.24937, 11.62908 48.249...  \n",
      "3077876  LINESTRING (11.62606 48.24956, 11.62893 48.24937)  \n",
      "3142154  LINESTRING (11.65191 48.25383, 11.65206 48.253...  \n",
      "3194379  LINESTRING (11.67268 48.26440, 11.67264 48.264...  \n",
      "\n",
      "[918 rows x 38 columns]\n",
      "Filtered GeoJSON exported to ../data/processed/Bayern/verkehrslinie-Garching-Basemap-by-kennung.geojson\n"
     ]
    }
   ],
   "source": [
    "\n",
    "# Path to your GeoPackage file\n",
    "gpkg_path = \"../data/raw/Bayern/basisviews_bdlm_BY_EPSG_4326_2024-11-15.gpkg\"\n",
    "\n",
    "# Specify the layer name to read\n",
    "layer_name = \"verkehrslinie_bdlm\"\n",
    "\n",
    "# Read the specific layer from the GeoPackage\n",
    "gdf = gpd.read_file(gpkg_path, layer=layer_name)\n",
    "\n",
    "# Filter the GeoDataFrame by \"kennung\" for garching\n",
    "# Not all Streets have the Kennung\n",
    "#ToDO Filter by Garching Polygon\n",
    "filtered_gdf = gdf[gdf['kennung'].notna() & gdf['kennung'].str.contains('09184119')]\n",
    "print(filtered_gdf)\n",
    "# Export the filtered data to GeoJSON\n",
    "output_geojson_path = \"../data/processed/Bayern/verkehrslinie-Garching-Basemap-by-kennung.geojson\"\n",
    "filtered_gdf.to_file(output_geojson_path, driver=\"GeoJSON\")\n",
    "\n",
    "print(f\"Filtered GeoJSON exported to {output_geojson_path}\")"
   ],
   "metadata": {
    "collapsed": false
   }
  },
  {
   "cell_type": "code",
   "execution_count": null,
   "outputs": [],
   "source": [
    "\"\"\"Filter by administrative polygon extracted from overpass API\"\"\"\n",
    "#That is the query I ran on the API and got a GeoJSON out:)\n",
    "\"\"\"\n",
    "[out:json];\n",
    "area[\"name\"=\"Garching bei München\"]->.searchArea;\n",
    "(\n",
    "  relation[\"boundary\"=\"administrative\"](area.searchArea);\n",
    ");\n",
    "out body;\n",
    ">;\n",
    "out skel qt;\n",
    "\"\"\""
   ],
   "metadata": {
    "collapsed": false
   }
  },
  {
   "cell_type": "code",
   "execution_count": null,
   "outputs": [],
   "source": [
    "\n",
    "\n",
    "# Read the specific layer from the GeoPackage\n",
    "gdf = gpd.read_file(gpkg_path, layer=layer_name)\n",
    "\n",
    "# Define a region (bounding box example)\n",
    "region_gdf = gpd.read_file(\"../data/raw/Bayern/garching.geojson\")\n",
    "gdf = gdf.to_crs(region_gdf.crs)\n",
    "filtered_gdf = gdf[gdf.geometry.intersects(region_gdf.unary_union)]\n",
    "# Convert region to a GeoDataFrame\n",
    "print(filtered_gdf.head())\n",
    "\n",
    "# Export the filtered data to GeoJSON\n",
    "output_geojson_path = \"../data/processed/Bayern/verkehrslinie-Garching-Basemap-by-region.geojson\"\n",
    "filtered_gdf.to_file(output_geojson_path, driver=\"GeoJSON\")\n",
    "\n",
    "print(f\"Filtered GeoJSON exported to {output_geojson_path}\")"
   ],
   "metadata": {
    "collapsed": false
   }
  },
  {
   "cell_type": "code",
   "execution_count": null,
   "outputs": [],
   "source": [],
   "metadata": {
    "collapsed": false
   }
  }
 ],
 "metadata": {
  "kernelspec": {
   "display_name": "Python 3",
   "language": "python",
   "name": "python3"
  },
  "language_info": {
   "codemirror_mode": {
    "name": "ipython",
    "version": 2
   },
   "file_extension": ".py",
   "mimetype": "text/x-python",
   "name": "python",
   "nbconvert_exporter": "python",
   "pygments_lexer": "ipython2",
   "version": "2.7.6"
  }
 },
 "nbformat": 4,
 "nbformat_minor": 0
}
