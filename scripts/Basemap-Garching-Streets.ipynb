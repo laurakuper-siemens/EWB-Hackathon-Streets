{
 "cells": [
  {
   "cell_type": "code",
   "execution_count": 1,
   "id": "c40009e5",
   "metadata": {},
   "outputs": [
    {
     "data": {
      "text/plain": "     fid                id land      objektart                      klasse  \\\n0  15347  DENWAT011Vb00024   NW  Fahrbahnachse                 Kreisstraße   \n1  15348  DENWAT011Vb0002O   NW  Fahrbahnachse                 Kreisstraße   \n2  15838  DENWAT01D0004a01   NW  Fahrbahnachse  Landesstraße, Staatsstraße   \n3  15933  DENWAT01D0004a1z   NW  Fahrbahnachse              Gemeindestraße   \n4  16238  DENWAT01D0004a85   NW  Fahrbahnachse                Bundesstraße   \n\n   klasse_org                name         name_kurz zweitname nummer  ...  \\\n0        1306     Concordiastraße     Concordiastr.      None    K19  ...   \n1        1306     Concordiastraße     Concordiastr.      None    K19  ...   \n2        1305  Osterfelder Straße  Osterfelder Str.      None   L450  ...   \n3        1307         Centroallee          Centroa.      None   None  ...   \n4        1303    Mülheimer Straße        Mülh. Str.      None   B223  ...   \n\n  spurweite spurweite_name   typ typ_name        kennung bauwerk bauwerk_name  \\\n0      None           None  None     None  0511900001690    None         None   \n1      None           None  None     None  0511900001690    None         None   \n2      None           None  None     None  0511900006620    None         None   \n3      None           None  None     None  0511900001635    None         None   \n4      None           None  None     None  0511900006330    None         None   \n\n  fahrbahnachse  ebene                                           geometry  \n0           1.0      0  LINESTRING (6.84029 51.47767, 6.84049 51.47762...  \n1           1.0      0  LINESTRING (6.84029 51.47767, 6.84038 51.47755...  \n2           1.0      0  LINESTRING (6.88181 51.48747, 6.88191 51.48753...  \n3           1.0      0  LINESTRING (6.87509 51.48856, 6.87515 51.48854...  \n4           1.0      0  LINESTRING (6.86382 51.47992, 6.86384 51.47999...  \n\n[5 rows x 39 columns]",
      "text/html": "<div>\n<style scoped>\n    .dataframe tbody tr th:only-of-type {\n        vertical-align: middle;\n    }\n\n    .dataframe tbody tr th {\n        vertical-align: top;\n    }\n\n    .dataframe thead th {\n        text-align: right;\n    }\n</style>\n<table border=\"1\" class=\"dataframe\">\n  <thead>\n    <tr style=\"text-align: right;\">\n      <th></th>\n      <th>fid</th>\n      <th>id</th>\n      <th>land</th>\n      <th>objektart</th>\n      <th>klasse</th>\n      <th>klasse_org</th>\n      <th>name</th>\n      <th>name_kurz</th>\n      <th>zweitname</th>\n      <th>nummer</th>\n      <th>...</th>\n      <th>spurweite</th>\n      <th>spurweite_name</th>\n      <th>typ</th>\n      <th>typ_name</th>\n      <th>kennung</th>\n      <th>bauwerk</th>\n      <th>bauwerk_name</th>\n      <th>fahrbahnachse</th>\n      <th>ebene</th>\n      <th>geometry</th>\n    </tr>\n  </thead>\n  <tbody>\n    <tr>\n      <th>0</th>\n      <td>15347</td>\n      <td>DENWAT011Vb00024</td>\n      <td>NW</td>\n      <td>Fahrbahnachse</td>\n      <td>Kreisstraße</td>\n      <td>1306</td>\n      <td>Concordiastraße</td>\n      <td>Concordiastr.</td>\n      <td>None</td>\n      <td>K19</td>\n      <td>...</td>\n      <td>None</td>\n      <td>None</td>\n      <td>None</td>\n      <td>None</td>\n      <td>0511900001690</td>\n      <td>None</td>\n      <td>None</td>\n      <td>1.0</td>\n      <td>0</td>\n      <td>LINESTRING (6.84029 51.47767, 6.84049 51.47762...</td>\n    </tr>\n    <tr>\n      <th>1</th>\n      <td>15348</td>\n      <td>DENWAT011Vb0002O</td>\n      <td>NW</td>\n      <td>Fahrbahnachse</td>\n      <td>Kreisstraße</td>\n      <td>1306</td>\n      <td>Concordiastraße</td>\n      <td>Concordiastr.</td>\n      <td>None</td>\n      <td>K19</td>\n      <td>...</td>\n      <td>None</td>\n      <td>None</td>\n      <td>None</td>\n      <td>None</td>\n      <td>0511900001690</td>\n      <td>None</td>\n      <td>None</td>\n      <td>1.0</td>\n      <td>0</td>\n      <td>LINESTRING (6.84029 51.47767, 6.84038 51.47755...</td>\n    </tr>\n    <tr>\n      <th>2</th>\n      <td>15838</td>\n      <td>DENWAT01D0004a01</td>\n      <td>NW</td>\n      <td>Fahrbahnachse</td>\n      <td>Landesstraße, Staatsstraße</td>\n      <td>1305</td>\n      <td>Osterfelder Straße</td>\n      <td>Osterfelder Str.</td>\n      <td>None</td>\n      <td>L450</td>\n      <td>...</td>\n      <td>None</td>\n      <td>None</td>\n      <td>None</td>\n      <td>None</td>\n      <td>0511900006620</td>\n      <td>None</td>\n      <td>None</td>\n      <td>1.0</td>\n      <td>0</td>\n      <td>LINESTRING (6.88181 51.48747, 6.88191 51.48753...</td>\n    </tr>\n    <tr>\n      <th>3</th>\n      <td>15933</td>\n      <td>DENWAT01D0004a1z</td>\n      <td>NW</td>\n      <td>Fahrbahnachse</td>\n      <td>Gemeindestraße</td>\n      <td>1307</td>\n      <td>Centroallee</td>\n      <td>Centroa.</td>\n      <td>None</td>\n      <td>None</td>\n      <td>...</td>\n      <td>None</td>\n      <td>None</td>\n      <td>None</td>\n      <td>None</td>\n      <td>0511900001635</td>\n      <td>None</td>\n      <td>None</td>\n      <td>1.0</td>\n      <td>0</td>\n      <td>LINESTRING (6.87509 51.48856, 6.87515 51.48854...</td>\n    </tr>\n    <tr>\n      <th>4</th>\n      <td>16238</td>\n      <td>DENWAT01D0004a85</td>\n      <td>NW</td>\n      <td>Fahrbahnachse</td>\n      <td>Bundesstraße</td>\n      <td>1303</td>\n      <td>Mülheimer Straße</td>\n      <td>Mülh. Str.</td>\n      <td>None</td>\n      <td>B223</td>\n      <td>...</td>\n      <td>None</td>\n      <td>None</td>\n      <td>None</td>\n      <td>None</td>\n      <td>0511900006330</td>\n      <td>None</td>\n      <td>None</td>\n      <td>1.0</td>\n      <td>0</td>\n      <td>LINESTRING (6.86382 51.47992, 6.86384 51.47999...</td>\n    </tr>\n  </tbody>\n</table>\n<p>5 rows × 39 columns</p>\n</div>"
     },
     "execution_count": 1,
     "metadata": {},
     "output_type": "execute_result"
    }
   ],
   "source": [
    "import geopandas as gpd\n",
    "import networkx as nx\n",
    "\n",
    "# Load the GeoJSON file to inspect its structure\n",
    "file_path = 'verkehrslinie-Garching-Basemap.geojson'\n",
    "geo_data = gpd.read_file(file_path)\n",
    "\n",
    "# Display the first few rows of the data to understand its structure\n",
    "geo_data.head()"
   ]
  },
  {
   "cell_type": "code",
   "execution_count": 4,
   "id": "db3a5fb9",
   "metadata": {},
   "outputs": [
    {
     "data": {
      "text/plain": "             street_name                                               edge\n0        Concordiastraße  ((6.8402915, 51.4776746), (6.8404867, 51.47761...\n1        Concordiastraße  ((6.8402915, 51.4776746), (6.8403832, 51.47755...\n2      Duisburger Straße  ((6.8402915, 51.4776746), (6.8416044, 51.47815...\n3      Duisburger Straße  ((6.8402915, 51.4776746), (6.8378975, 51.47679...\n4        Concordiastraße  ((6.8402915, 51.4776746), (6.8421342, 51.47651...\n...                  ...                                                ...\n26013   Vestische Straße  ((6.880298, 51.5028419), (6.8804907, 51.5027197))\n26014    Skagerrakstraße  ((6.8242065, 51.4976524), (6.8243321, 51.49727...\n26015    Skagerrakstraße  ((6.8243321, 51.4972713), (6.8244415, 51.496946))\n26016    Skagerrakstraße  ((6.8244415, 51.496946), (6.8244797, 51.4968325))\n26017    Skagerrakstraße  ((6.8244797, 51.4968325), (6.8244934, 51.49679...\n\n[26018 rows x 2 columns]",
      "text/html": "<div>\n<style scoped>\n    .dataframe tbody tr th:only-of-type {\n        vertical-align: middle;\n    }\n\n    .dataframe tbody tr th {\n        vertical-align: top;\n    }\n\n    .dataframe thead th {\n        text-align: right;\n    }\n</style>\n<table border=\"1\" class=\"dataframe\">\n  <thead>\n    <tr style=\"text-align: right;\">\n      <th></th>\n      <th>street_name</th>\n      <th>edge</th>\n    </tr>\n  </thead>\n  <tbody>\n    <tr>\n      <th>0</th>\n      <td>Concordiastraße</td>\n      <td>((6.8402915, 51.4776746), (6.8404867, 51.47761...</td>\n    </tr>\n    <tr>\n      <th>1</th>\n      <td>Concordiastraße</td>\n      <td>((6.8402915, 51.4776746), (6.8403832, 51.47755...</td>\n    </tr>\n    <tr>\n      <th>2</th>\n      <td>Duisburger Straße</td>\n      <td>((6.8402915, 51.4776746), (6.8416044, 51.47815...</td>\n    </tr>\n    <tr>\n      <th>3</th>\n      <td>Duisburger Straße</td>\n      <td>((6.8402915, 51.4776746), (6.8378975, 51.47679...</td>\n    </tr>\n    <tr>\n      <th>4</th>\n      <td>Concordiastraße</td>\n      <td>((6.8402915, 51.4776746), (6.8421342, 51.47651...</td>\n    </tr>\n    <tr>\n      <th>...</th>\n      <td>...</td>\n      <td>...</td>\n    </tr>\n    <tr>\n      <th>26013</th>\n      <td>Vestische Straße</td>\n      <td>((6.880298, 51.5028419), (6.8804907, 51.5027197))</td>\n    </tr>\n    <tr>\n      <th>26014</th>\n      <td>Skagerrakstraße</td>\n      <td>((6.8242065, 51.4976524), (6.8243321, 51.49727...</td>\n    </tr>\n    <tr>\n      <th>26015</th>\n      <td>Skagerrakstraße</td>\n      <td>((6.8243321, 51.4972713), (6.8244415, 51.496946))</td>\n    </tr>\n    <tr>\n      <th>26016</th>\n      <td>Skagerrakstraße</td>\n      <td>((6.8244415, 51.496946), (6.8244797, 51.4968325))</td>\n    </tr>\n    <tr>\n      <th>26017</th>\n      <td>Skagerrakstraße</td>\n      <td>((6.8244797, 51.4968325), (6.8244934, 51.49679...</td>\n    </tr>\n  </tbody>\n</table>\n<p>26018 rows × 2 columns</p>\n</div>"
     },
     "execution_count": 4,
     "metadata": {},
     "output_type": "execute_result"
    }
   ],
   "source": [
    "# Extract necessary columns for building the network graph\n",
    "streets_data = geo_data[['name', 'geometry']]\n",
    "\n",
    "# Build a NetworkX graph from the GeoDataFrame\n",
    "G = nx.Graph()\n",
    "\n",
    "# Add edges to the graph based on street geometries\n",
    "for _, row in streets_data.iterrows():\n",
    "    street_name = row['name']\n",
    "    street_kennung = row['kennung']\n",
    "    geometry = row['geometry']\n",
    "\n",
    "    # If the geometry is a LineString, extract coordinates\n",
    "    if geometry.geom_type == 'LineString':\n",
    "        coords = list(geometry.coords)\n",
    "        # Add nodes and edges for each segment in the LineString\n",
    "        for i in range(len(coords) - 1):\n",
    "            start = coords[i]\n",
    "            end = coords[i + 1]\n",
    "            G.add_edge(start, end, street_name=street_name)\n",
    "    # If the geometry is a MultiLineString, process each LineString\n",
    "    elif geometry.geom_type == 'MultiLineString':\n",
    "        for linestring in geometry:\n",
    "            coords = list(linestring.coords)\n",
    "            for i in range(len(coords) - 1):\n",
    "                start = coords[i]\n",
    "                end = coords[i + 1]\n",
    "                G.add_edge(start, end, street_name=street_name)\n",
    "\n",
    "# Create Street Key Table: Map street names to edge keys\n",
    "street_key_table = []\n",
    "for edge in G.edges(data=True):\n",
    "    street_key_table.append({'street_name': edge[2]['street_name'], 'edge': (edge[0], edge[1])})\n",
    "\n",
    "# Create Edge Table: Details of all edges\n",
    "edge_table = []\n",
    "for edge in G.edges(data=True):\n",
    "    edge_table.append({'start': edge[0], 'end': edge[1], 'street_name': edge[2]['street_name']})\n",
    "\n",
    "# Create Vertex Table: List of all nodes\n",
    "vertex_table = [{'vertex': node, 'coordinates': node} for node in G.nodes()]\n",
    "\n",
    "import pandas as pd\n",
    "\n",
    "# Convert to DataFrames for better representation\n",
    "street_key_df = pd.DataFrame(street_key_table)\n",
    "edge_df = pd.DataFrame(edge_table)\n",
    "vertex_df = pd.DataFrame(vertex_table)\n",
    "\n",
    "street_key_df"
   ]
  },
  {
   "cell_type": "code",
   "execution_count": null,
   "outputs": [],
   "source": [
    "from shapely.geometry import Point, LineString\n",
    "from geopy.distance import geodesic\n",
    "\n",
    "# Function to calculate the geodesic length of an edge\n",
    "def calculate_edge_length(start, end):\n",
    "    return geodesic(start[::-1], end[::-1]).meters\n",
    "\n",
    "# Add length calculation to the Edge Table\n",
    "edge_df['length_m'] = [\n",
    "    calculate_edge_length(edge[0], edge[1]) for edge in G.edges()\n",
    "]\n",
    "\n",
    "# Reorganize the Edge Table with the new column\n",
    "edge_df = edge_df[['id', 'start', 'end', 'street_name', 'kennung', 'length_m']]\n",
    "\n"
   ],
   "metadata": {
    "collapsed": false
   }
  },
  {
   "cell_type": "code",
   "execution_count": 6,
   "outputs": [
    {
     "name": "stderr",
     "output_type": "stream",
     "text": [
      "\n",
      "KeyboardInterrupt\n",
      "\n"
     ]
    }
   ],
   "source": [
    "# Update the Street Key Table to use 'kennung' as the index\n",
    "street_key_df['kennung'] = geo_data.set_index('geometry').reindex(street_key_df['street_name'])['kennung'].values\n",
    "street_key_df = street_key_df[['kennung', 'street_name', 'edge']].set_index('kennung')\n",
    "\n",
    "# Update the Edge Table to include 'kennung' and use 'id' as the index\n",
    "edge_df['kennung'] = geo_data.set_index('geometry').reindex(edge_df['street_name'])['kennung'].values\n",
    "edge_df['id'] = range(1, len(edge_df) + 1)  # Generate unique IDs for edges\n",
    "edge_df = edge_df[['id', 'start', 'end', 'street_name', 'kennung']].set_index('id')\n",
    "\n",
    "# Update the Vertex Table to include unique vertex IDs and a column for edge IDs\n",
    "vertex_df['vertex_id'] = range(1, len(vertex_df) + 1)\n",
    "vertex_df['edge_ids'] = [\n",
    "    [edge_id for edge_id, edge in enumerate(G.edges(data=True), start=1)\n",
    "     if vertex in (edge[0], edge[1])]\n",
    "    for vertex in vertex_df['vertex']\n",
    "]\n",
    "\n"
   ],
   "metadata": {
    "collapsed": false
   }
  },
  {
   "cell_type": "code",
   "execution_count": 5,
   "outputs": [
    {
     "data": {
      "text/plain": "                     start                      end        street_name\n0  (6.8402915, 51.4776746)  (6.8404867, 51.4776153)    Concordiastraße\n1  (6.8402915, 51.4776746)  (6.8403832, 51.4775518)    Concordiastraße\n2  (6.8402915, 51.4776746)  (6.8416044, 51.4781524)  Duisburger Straße\n3  (6.8402915, 51.4776746)  (6.8378975, 51.4767974)  Duisburger Straße\n4  (6.8402915, 51.4776746)  (6.8421342, 51.4765154)    Concordiastraße",
      "text/html": "<div>\n<style scoped>\n    .dataframe tbody tr th:only-of-type {\n        vertical-align: middle;\n    }\n\n    .dataframe tbody tr th {\n        vertical-align: top;\n    }\n\n    .dataframe thead th {\n        text-align: right;\n    }\n</style>\n<table border=\"1\" class=\"dataframe\">\n  <thead>\n    <tr style=\"text-align: right;\">\n      <th></th>\n      <th>start</th>\n      <th>end</th>\n      <th>street_name</th>\n    </tr>\n  </thead>\n  <tbody>\n    <tr>\n      <th>0</th>\n      <td>(6.8402915, 51.4776746)</td>\n      <td>(6.8404867, 51.4776153)</td>\n      <td>Concordiastraße</td>\n    </tr>\n    <tr>\n      <th>1</th>\n      <td>(6.8402915, 51.4776746)</td>\n      <td>(6.8403832, 51.4775518)</td>\n      <td>Concordiastraße</td>\n    </tr>\n    <tr>\n      <th>2</th>\n      <td>(6.8402915, 51.4776746)</td>\n      <td>(6.8416044, 51.4781524)</td>\n      <td>Duisburger Straße</td>\n    </tr>\n    <tr>\n      <th>3</th>\n      <td>(6.8402915, 51.4776746)</td>\n      <td>(6.8378975, 51.4767974)</td>\n      <td>Duisburger Straße</td>\n    </tr>\n    <tr>\n      <th>4</th>\n      <td>(6.8402915, 51.4776746)</td>\n      <td>(6.8421342, 51.4765154)</td>\n      <td>Concordiastraße</td>\n    </tr>\n  </tbody>\n</table>\n</div>"
     },
     "execution_count": 5,
     "metadata": {},
     "output_type": "execute_result"
    }
   ],
   "source": [
    "edge_df.head()"
   ],
   "metadata": {
    "collapsed": false
   }
  }
 ],
 "metadata": {
  "kernelspec": {
   "display_name": "Python 3 (ipykernel)",
   "language": "python",
   "name": "python3"
  },
  "language_info": {
   "codemirror_mode": {
    "name": "ipython",
    "version": 3
   },
   "file_extension": ".py",
   "mimetype": "text/x-python",
   "name": "python",
   "nbconvert_exporter": "python",
   "pygments_lexer": "ipython3",
   "version": "3.9.7"
  }
 },
 "nbformat": 4,
 "nbformat_minor": 5
}
